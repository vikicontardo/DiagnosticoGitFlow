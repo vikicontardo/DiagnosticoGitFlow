{
 "cells": [
  {
   "cell_type": "code",
   "execution_count": null,
   "metadata": {},
   "outputs": [],
   "source": [
    "#Codigo sacado de https://methods.sagepub.com/dataset/howtoguide/regular-expressions-in-isis-twitter-2016-python#:~:text=Hashtags%20are%20strings%20of%20characters,appear%20one%20or%20more%20times\n",
    "def f4_top10hash(tweets):\n",
    "    hashtags = tweets[\"renderedContent\"].str.extractall(r\"(#\\S+)\")\n",
    "    cont = hashtags[0].value_counts()\n",
    "    return cont[:10]"
   ]
  }
 ],
 "metadata": {
  "language_info": {
   "name": "python"
  },
  "orig_nbformat": 4
 },
 "nbformat": 4,
 "nbformat_minor": 2
}
