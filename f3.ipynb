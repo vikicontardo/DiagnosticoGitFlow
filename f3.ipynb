{
 "cells": [
  {
   "cell_type": "code",
   "execution_count": null,
   "metadata": {},
   "outputs": [],
   "source": [
    "def f3_top10dias(tweets):\n",
    "    tabla = tweets.groupby(by=\"date\").count().sort_values(by=\"tweetId\", ascending=False).index.values[:10]\n",
    "    return list(tabla)"
   ]
  }
 ],
 "metadata": {
  "language_info": {
   "name": "python"
  },
  "orig_nbformat": 4
 },
 "nbformat": 4,
 "nbformat_minor": 2
}
